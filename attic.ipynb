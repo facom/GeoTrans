{
 "cells": [
  {
   "cell_type": "code",
   "execution_count": null,
   "metadata": {},
   "outputs": [],
   "source": [
    "def computeFlux2(i,ts):\n",
    "    s=[]\n",
    "    ds=[]\n",
    "    for t in ts:\n",
    "        if t>=S.tmin and t+tcad<=S.tmax:Nobs=gaussianQuadrature(transitFlux,t,t+tcad,args=(S,))\n",
    "        else:\n",
    "            print(f\"{t} Constante\")\n",
    "            Nobs=Nexp\n",
    "        s+=[random.poisson(Nobs)/Nexp]\n",
    "        ds+=[(Nobs**0.5/Nexp)]\n",
    "    return array(s),array(ds)"
   ]
  }
 ],
 "metadata": {
  "kernelspec": {
   "display_name": "Python 3",
   "language": "python",
   "name": "python3"
  },
  "language_info": {
   "codemirror_mode": {
    "name": "ipython",
    "version": 3
   },
   "file_extension": ".py",
   "mimetype": "text/x-python",
   "name": "python",
   "nbconvert_exporter": "python",
   "pygments_lexer": "ipython3",
   "version": "3.6.0"
  }
 },
 "nbformat": 4,
 "nbformat_minor": 2
}
