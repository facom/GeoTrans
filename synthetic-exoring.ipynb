{
 "cells": [
  {
   "cell_type": "markdown",
   "metadata": {},
   "source": [
    "# GeoTrans\n",
    "## Syntethic Exoring Light-curve\n",
    "\n",
    "Using this script you will be able to generate a synthetic light-curve of a planet with an exoring."
   ]
  },
  {
   "cell_type": "markdown",
   "metadata": {},
   "source": [
    "### Import modules and load magics"
   ]
  },
  {
   "cell_type": "code",
   "execution_count": 12,
   "metadata": {},
   "outputs": [
    {
     "name": "stdout",
     "output_type": "stream",
     "text": [
      "\n",
      "Elapsed time: 5.18e+03 ms, 5.18 s, 0.0863 min, 0.00144 h\n"
     ]
    }
   ],
   "source": [
    "from geotrans import *\n",
    "%matplotlib notebook\n",
    "%reload_ext autoreload\n",
    "%autoreload 2\n",
    "et=elapsed()"
   ]
  },
  {
   "cell_type": "markdown",
   "metadata": {},
   "source": [
    "### Configuration"
   ]
  },
  {
   "cell_type": "code",
   "execution_count": 2,
   "metadata": {},
   "outputs": [],
   "source": [
    "if QIPY:\n",
    "    CONF.SYSTEM=\"kepler421\""
   ]
  },
  {
   "cell_type": "markdown",
   "metadata": {},
   "source": [
    "### Import system information"
   ]
  },
  {
   "cell_type": "code",
   "execution_count": 3,
   "metadata": {},
   "outputs": [
    {
     "name": "stdout",
     "output_type": "stream",
     "text": [
      "Star primary:\n",
      "\t Ms = 1.578909e+30 kg\n",
      "\t Rs = 5.703041e+08 kg\n",
      "Planet primary:\n",
      "\t Mp = 5.684600e+26 kg = 3.600335e-04 Mstar\n",
      "\t Rp = 5.823200e+07 kg = 1.021069e-01 Rstar\n",
      "Rings primary:\n",
      "\t fi,fe = 1.500000e+00,2.500000e+00 Rp\n",
      "\t Inclination (orbit) = 30.0 deg\n",
      "\t Roll (orbit) = 60.0 deg\n",
      "\t Opacity = 1.00\n",
      "Orbit primary:\n",
      "\t ap = 1.495979e+11 km = 1.000000e+00 AU = 2.623125e+02 Rstar\n",
      "\t Eccentricity = 0.00\n",
      "\t Inclination (visual) = 89.95 deg\n",
      "\t Periapsis argument = 0.00 deg\n",
      "\n",
      "Star derivative:\n",
      "Planetary derivative:\n",
      "\t Radius (relative) = 1.021069e-01 Rstar\n",
      "Rings derivative:\n",
      "\t Internal ring (relative) = 0.15 Rstar\n",
      "\t External ring (relative) = 0.26 Rstar\n",
      "\t Apparent inclination = 75.57 deg\n",
      "\t Apparent roll = 26.56 deg\n",
      "Orbit derivative:\n",
      "\t Period = 3.540916e+07 s = 9.835877e+03 h = 4.098282e+02 d = 1.122817e+00 yr\n",
      "\t Mean Angular velocity = 1.774452e-07 rad/s = 4.654609e-05 Rstar/s = 4.558563e-04 Rp/s\n",
      "\t Central true anomaly = 2.700000e+02 deg\n",
      "\t Central eccentric anomaly = -9.000000e+01 deg\n",
      "\t Central mean anomaly = -9.000000e+01 deg\n",
      "\t Central radius = 1.495979e+11 km = 1.000000e+00 AU = 2.623125e+02 Rstar\n",
      "\t Impact parameter = -2.289108e-01 Rstar\n",
      "\t Central time = -8.852290e+06 s = -2.500000e-01 Porb\n",
      "\t Estimated transit duration = 4.182725e+04 s = 1.161868e+01 h\n",
      "Contact times:\n",
      "\t First contact: -8.515528654312302\n",
      "\t Last contact: 8.223975881606133\n"
     ]
    }
   ],
   "source": [
    "exec(f\"from data.{CONF.SYSTEM} import *\")\n",
    "S=System\n",
    "Snr=onlyPlanet(S)\n",
    "systemShow(S)"
   ]
  },
  {
   "cell_type": "markdown",
   "metadata": {},
   "source": [
    "### Observational parameters"
   ]
  },
  {
   "cell_type": "code",
   "execution_count": 4,
   "metadata": {},
   "outputs": [
    {
     "name": "stdout",
     "output_type": "stream",
     "text": [
      "Number of observations per transit: 67\n",
      "Average number of counts per observation: 59834312.431594275\n"
     ]
    }
   ],
   "source": [
    "#Cadence\n",
    "tcad=15.0*MINUTE \n",
    "#Number of observations during transit\n",
    "nobs=int(ceil((S.tmax-S.tmin)/tcad)) \n",
    "#Number of counts per cadence\n",
    "Nexp=tcad*S.Flux\n",
    "print(f\"Number of observations per transit: {nobs}\")\n",
    "print(f\"Average number of counts per observation: {Nexp}\")"
   ]
  },
  {
   "cell_type": "markdown",
   "metadata": {},
   "source": [
    "### Worker function"
   ]
  },
  {
   "cell_type": "code",
   "execution_count": 13,
   "metadata": {},
   "outputs": [],
   "source": [
    "def computeFlux(i,ts,Ts,s,ds):\n",
    "    Sw=deepcopy(S)\n",
    "    cs=random.poisson([gaussianQuadrature(transitFlux,t,t+tcad,args=(Sw,)) for t in tqdm(ts,position=i)])/Nexp\n",
    "    cds=(cs/Nexp)**0.5\n",
    "    s+=cs.tolist()\n",
    "    ds+=cds.tolist()\n",
    "    Ts+=ts.tolist()"
   ]
  },
  {
   "cell_type": "markdown",
   "metadata": {},
   "source": [
    "### Parallel execution"
   ]
  },
  {
   "cell_type": "code",
   "execution_count": 6,
   "metadata": {},
   "outputs": [
    {
     "name": "stdout",
     "output_type": "stream",
     "text": [
      "Number of times: 157375\n"
     ]
    }
   ],
   "source": [
    "tini=0\n",
    "#tend=2*YEAR\n",
    "tend=4*S.Porb\n",
    "times=arange(tini,tend,tcad)\n",
    "print(f\"Number of times: {len(times)}\")"
   ]
  },
  {
   "cell_type": "code",
   "execution_count": null,
   "metadata": {},
   "outputs": [],
   "source": [
    "if QIPY:\n",
    "    CONF.NP=1\n",
    "    times=times[:100]"
   ]
  },
  {
   "cell_type": "code",
   "execution_count": 7,
   "metadata": {},
   "outputs": [
    {
     "name": "stderr",
     "output_type": "stream",
     "text": [
      "  0%|          | 0/78688 [00:00<?, ?it/s]\n",
      "  4%|▍         | 3208/78688 [00:00<00:02, 32077.81it/s]"
     ]
    },
    {
     "name": "stdout",
     "output_type": "stream",
     "text": [
      "Data segments assigned to workers:[78688, 78687]\n"
     ]
    },
    {
     "name": "stderr",
     "output_type": "stream",
     "text": [
      "\n",
      "  5%|▌         | 4171/78688 [00:00<00:04, 17185.68it/s]\u001b[A\n",
      "  7%|▋         | 5801/78688 [00:00<00:04, 16908.87it/s]\u001b[A\n",
      "  9%|▉         | 7184/78688 [00:00<00:04, 15849.51it/s]\u001b[A\n",
      " 11%|█▏        | 8978/78688 [00:00<00:04, 16423.20it/s]\u001b[A\n",
      " 13%|█▎        | 10363/78688 [00:00<00:04, 15234.13it/s][A\n",
      " 15%|█▍        | 11723/78688 [00:00<00:04, 14467.81it/s]\u001b[A\n",
      " 17%|█▋        | 13086/78688 [00:00<00:04, 14205.72it/s]\u001b[A\n",
      " 18%|█▊        | 14434/78688 [00:00<00:04, 13907.58it/s]\u001b[A\n",
      " 20%|██        | 15775/78688 [00:01<00:04, 13021.24it/s]\u001b[A\n",
      " 24%|██▎       | 18542/78688 [00:01<00:05, 11851.80it/s]\u001b[A\n",
      " 28%|██▊       | 21700/78688 [00:01<00:03, 14585.19it/s]\u001b[A\n",
      " 30%|██▉       | 23536/78688 [00:01<00:03, 15471.11it/s]\u001b[A\n",
      " 32%|███▏      | 25333/78688 [00:01<00:03, 15668.73it/s]\u001b[A\n",
      " 34%|███▍      | 27075/78688 [00:01<00:03, 15600.54it/s]\u001b[A\n",
      " 37%|███▋      | 28758/78688 [00:01<00:03, 15853.12it/s]\u001b[A\n",
      " 35%|███▍      | 27467/78687 [00:01<00:04, 11952.82it/s]\u001b[A\n",
      " 37%|███▋      | 28758/78688 [00:20<00:03, 15853.12it/s]\u001b[A\n",
      " 37%|███▋      | 28751/78687 [00:20<00:04, 11610.93it/s]\u001b[A\n",
      " 38%|███▊      | 29514/78688 [00:24<3:38:49,  3.75it/s] \u001b[A\n",
      " 38%|███▊      | 29517/78688 [00:26<5:25:09,  2.52it/s]\u001b[A\n",
      " 38%|███▊      | 29522/78688 [00:29<7:10:36,  1.90it/s]\u001b[A\n",
      " 38%|███▊      | 29524/78688 [00:30<7:51:24,  1.74it/s]\u001b[A\n",
      " 38%|███▊      | 29526/78688 [00:31<7:42:46,  1.77it/s]\u001b[A\n",
      " 38%|███▊      | 29527/78688 [00:32<7:40:13,  1.78it/s]\u001b[A\n",
      " 38%|███▊      | 29529/78688 [00:33<6:43:43,  2.03it/s]\u001b[A\n",
      " 38%|███▊      | 29531/78688 [00:34<6:02:46,  2.26it/s]\u001b[A\n",
      " 38%|███▊      | 29534/78688 [00:34<4:05:06,  3.34it/s]\u001b[A\n",
      " 40%|████      | 31811/78688 [00:35<1:19:12,  9.86it/s]\u001b[A\n",
      " 56%|█████▌    | 44007/78688 [00:35<06:55, 83.54it/s]  \u001b[A\n",
      " 64%|██████▍   | 50344/78688 [00:36<01:57, 241.44it/s]]\u001b[A\n",
      " 69%|██████▊   | 53984/78688 [00:36<00:51, 481.36it/s]]\u001b[A\n",
      " 73%|███████▎  | 57659/78688 [00:36<00:22, 949.82it/s]]\u001b[A\n",
      " 77%|███████▋  | 60661/78688 [00:37<00:10, 1782.74it/s]\u001b[A\n",
      " 81%|████████▏ | 63944/78688 [00:37<00:05, 2488.84it/s]\u001b[A\n",
      " 84%|████████▎ | 65865/78688 [00:37<00:03, 3291.94it/s]\u001b[A\n",
      " 86%|████████▌ | 67610/78688 [00:37<00:02, 4179.37it/s]\u001b[A\n",
      " 39%|███▉      | 30812/78687 [00:37<2:06:32,  6.31it/s]\u001b[A\n",
      " 40%|███▉      | 31191/78687 [00:37<1:28:02,  8.99it/s]\u001b[A\n",
      " 40%|████      | 31500/78687 [00:37<1:01:19, 12.82it/s]\u001b[A\n",
      " 40%|████      | 31787/78687 [00:38<42:50, 18.25it/s]  \u001b[A\n",
      " 41%|████      | 32029/78687 [00:38<29:58, 25.95it/s]\u001b[A\n",
      " 41%|████      | 32251/78687 [00:38<20:59, 36.86it/s]\u001b[A\n",
      " 41%|████▏     | 32465/78687 [00:38<14:55, 51.64it/s]\u001b[A\n",
      " 42%|████▏     | 32684/78687 [00:38<10:30, 72.98it/s]\u001b[A\n",
      " 42%|████▏     | 32867/78687 [00:38<07:32, 101.31it/s]\u001b[A\n",
      " 42%|████▏     | 33028/78687 [00:39<05:32, 137.36it/s]\u001b[A\n",
      " 42%|████▏     | 33165/78687 [00:39<04:05, 185.36it/s]\u001b[A\n",
      " 42%|████▏     | 33291/78687 [00:39<03:02, 248.37it/s]\u001b[A\n",
      " 42%|████▏     | 33415/78687 [00:39<02:30, 300.49it/s]\u001b[A\n",
      " 43%|████▎     | 33520/78687 [00:39<02:30, 299.98it/s]\u001b[A\n",
      " 43%|████▎     | 33603/78687 [00:39<02:07, 352.59it/s]\u001b[A\n",
      " 43%|████▎     | 33679/78687 [00:40<01:52, 399.14it/s]\u001b[A\n",
      " 43%|████▎     | 33812/78687 [00:40<01:28, 505.22it/s]\u001b[A\n",
      " 43%|████▎     | 33901/78687 [00:40<01:30, 494.86it/s]\u001b[A\n",
      " 43%|████▎     | 33978/78687 [00:40<01:33, 479.83it/s]\u001b[A\n",
      " 43%|████▎     | 34045/78687 [00:40<01:51, 400.20it/s]\u001b[A\n",
      " 43%|████▎     | 34101/78687 [00:40<01:56, 383.10it/s]\u001b[A\n",
      " 44%|████▍     | 34482/78687 [00:41<01:24, 524.67it/s]\u001b[A\n",
      " 44%|████▍     | 34631/78687 [00:41<01:07, 648.81it/s]\u001b[A\n",
      " 44%|████▍     | 34779/78687 [00:41<01:08, 640.98it/s]\u001b[A\n",
      " 44%|████▍     | 34902/78687 [00:41<01:15, 582.62it/s]\u001b[A\n",
      " 46%|████▌     | 36047/78687 [00:41<00:52, 814.55it/s]\u001b[A\n",
      " 47%|████▋     | 37288/78687 [00:41<00:36, 1125.68it/s]\u001b[A\n",
      " 49%|████▉     | 38663/78687 [00:42<00:25, 1553.60it/s]\u001b[A\n",
      " 50%|█████     | 39496/78687 [00:42<00:19, 2029.49it/s]\u001b[A\n",
      " 51%|█████     | 40293/78687 [00:42<00:14, 2603.29it/s]\u001b[A\n",
      " 54%|█████▍    | 42440/78687 [00:42<00:10, 3533.99it/s]\u001b[A\n",
      " 55%|█████▌    | 43631/78687 [00:42<00:08, 3990.79it/s]\u001b[A\n",
      " 57%|█████▋    | 44636/78687 [00:42<00:08, 4083.30it/s]\u001b[A\n",
      " 58%|█████▊    | 45469/78687 [00:42<00:07, 4250.65it/s]\u001b[A\n",
      " 59%|█████▊    | 46193/78687 [00:43<00:09, 3309.81it/s]\u001b[A\n",
      " 59%|█████▉    | 46766/78687 [00:43<00:10, 2931.69it/s]\u001b[A\n",
      " 60%|██████    | 47236/78687 [00:43<00:09, 3166.70it/s]\u001b[A\n",
      " 61%|██████    | 47682/78687 [00:43<00:09, 3204.08it/s]\u001b[A\n",
      " 61%|██████    | 48093/78687 [00:43<00:09, 3398.59it/s]\u001b[A\n",
      " 62%|██████▏   | 48500/78687 [00:44<00:09, 3127.50it/s]\u001b[A\n",
      " 62%|██████▏   | 48864/78687 [00:44<00:10, 2802.52it/s]\u001b[A\n",
      " 63%|██████▎   | 49187/78687 [00:44<00:13, 2218.46it/s]\u001b[A\n",
      " 63%|██████▎   | 49458/78687 [00:44<00:16, 1731.08it/s]\u001b[A\n",
      " 63%|██████▎   | 49682/78687 [00:44<00:17, 1637.00it/s]\u001b[A\n",
      " 63%|██████▎   | 49883/78687 [00:45<00:22, 1289.35it/s]\u001b[A\n",
      " 64%|██████▎   | 50049/78687 [00:45<00:24, 1178.38it/s]\u001b[A\n",
      " 64%|██████▍   | 50195/78687 [00:45<00:26, 1091.21it/s]\u001b[A\n",
      " 64%|██████▍   | 50325/78687 [00:45<00:34, 828.38it/s] \u001b[A\n",
      " 64%|██████▍   | 50432/78687 [00:45<00:40, 705.04it/s]\u001b[A\n",
      " 64%|██████▍   | 50523/78687 [00:46<00:50, 560.95it/s]\u001b[A\n",
      " 64%|██████▍   | 50598/78687 [00:46<01:01, 459.07it/s]\u001b[A\n",
      " 64%|██████▍   | 50660/78687 [00:46<01:22, 341.62it/s]\u001b[A\n",
      " 65%|██████▌   | 51262/78687 [00:46<00:57, 475.26it/s]\u001b[A\n",
      " 65%|██████▌   | 51461/78687 [00:46<00:47, 570.62it/s]\u001b[A\n",
      " 66%|██████▌   | 51633/78687 [00:47<00:40, 666.45it/s]\u001b[A\n",
      " 66%|██████▌   | 51786/78687 [00:47<00:35, 766.41it/s]\u001b[A\n",
      " 66%|██████▌   | 51929/78687 [00:47<00:35, 763.86it/s]\u001b[A\n",
      " 66%|██████▌   | 52052/78687 [00:47<00:36, 722.24it/s]\u001b[A\n",
      " 66%|██████▋   | 52157/78687 [00:47<00:36, 717.67it/s]\u001b[A\n",
      " 66%|██████▋   | 52252/78687 [00:47<00:34, 762.33it/s]\u001b[A\n",
      " 67%|██████▋   | 52345/78687 [00:47<00:35, 735.19it/s]\u001b[A\n",
      " 67%|██████▋   | 52431/78687 [00:48<00:45, 578.86it/s]\u001b[A\n",
      " 67%|██████▋   | 52503/78687 [00:48<00:51, 507.04it/s]\u001b[A\n",
      " 67%|██████▋   | 52565/78687 [00:48<01:02, 414.86it/s]\u001b[A\n",
      " 68%|██████▊   | 53157/78687 [00:48<00:44, 575.37it/s]\u001b[A\n",
      " 69%|██████▉   | 54522/78687 [00:48<00:29, 806.20it/s]\u001b[A\n",
      " 70%|██████▉   | 55051/78687 [00:48<00:21, 1076.08it/s]\u001b[A\n",
      " 72%|███████▏  | 56881/78687 [00:48<00:14, 1499.46it/s]\u001b[A\n",
      " 74%|███████▎  | 58005/78687 [00:49<00:10, 2026.24it/s]\u001b[A\n",
      " 77%|███████▋  | 60631/78687 [00:49<00:06, 2801.95it/s]\u001b[A\n",
      " 79%|███████▉  | 62196/78687 [00:49<00:04, 3717.22it/s]\u001b[A\n",
      " 81%|████████  | 63694/78687 [00:49<00:03, 4390.78it/s]\u001b[A\n",
      " 83%|████████▎ | 64971/78687 [00:49<00:02, 4882.79it/s]\u001b[A\n",
      " 84%|████████▍ | 66064/78687 [00:49<00:02, 4815.78it/s]\u001b[A\n",
      " 88%|████████▊ | 68866/78688 [00:50<00:32, 304.28it/s] \u001b[A\n",
      " 88%|████████▊ | 68866/78688 [00:50<00:32, 304.28it/s]]\u001b[A\n",
      "100%|██████████| 78688/78688 [00:57<00:00, 1363.79it/s]\u001b[A\n",
      " 87%|████████▋ | 68822/78687 [01:10<00:02, 4301.55it/s]\u001b[A\n",
      " 88%|████████▊ | 68868/78687 [01:10<21:36,  7.58it/s]  \u001b[A\n",
      " 88%|████████▊ | 68869/78687 [01:11<41:30,  3.94it/s]\u001b[A\n",
      " 88%|████████▊ | 68870/78687 [01:11<57:53,  2.83it/s]\u001b[A\n",
      " 88%|████████▊ | 68871/78687 [01:12<1:02:03,  2.64it/s]\u001b[A\n",
      " 88%|████████▊ | 68872/78687 [01:12<58:10,  2.81it/s]  \u001b[A\n",
      " 88%|████████▊ | 68873/78687 [01:12<52:23,  3.12it/s]\u001b[A\n",
      " 88%|████████▊ | 68874/78687 [01:13<46:30,  3.52it/s]\u001b[A\n",
      " 88%|████████▊ | 68875/78687 [01:13<42:59,  3.80it/s]\u001b[A\n",
      " 88%|████████▊ | 68876/78687 [01:13<38:42,  4.22it/s]\u001b[A\n",
      " 88%|████████▊ | 68877/78687 [01:13<35:54,  4.55it/s]\u001b[A\n",
      " 88%|████████▊ | 68879/78687 [01:13<28:04,  5.82it/s]\u001b[A\n",
      " 91%|█████████ | 71215/78687 [01:13<14:58,  8.32it/s]\u001b[A\n",
      " 93%|█████████▎| 73301/78687 [01:13<07:33, 11.88it/s]\u001b[A\n",
      " 95%|█████████▍| 74418/78687 [01:14<04:11, 16.96it/s]\u001b[A\n",
      " 97%|█████████▋| 76422/78687 [01:14<01:33, 24.22it/s]\u001b[A\n",
      " 99%|█████████▉| 77757/78687 [01:14<00:26, 34.56it/s]\u001b[A\n",
      "100%|██████████| 78687/78687 [01:14<00:00, 1057.77it/s]\u001b[A"
     ]
    },
    {
     "name": "stdout",
     "output_type": "stream",
     "text": [
      "\n",
      "\n",
      "\n"
     ]
    }
   ],
   "source": [
    "ts=[]\n",
    "s=[]\n",
    "ds=[]\n",
    "et=elapsed()\n",
    "runParallel(computeFlux,times,ts,s,ds,CONF.NP,test=False)\n",
    "et=elapsed()"
   ]
  },
  {
   "cell_type": "markdown",
   "metadata": {},
   "source": [
    "### Save and plot light-curve"
   ]
  },
  {
   "cell_type": "code",
   "execution_count": 8,
   "metadata": {},
   "outputs": [],
   "source": [
    "light_curve=pd.DataFrame()\n",
    "ts=array(ts)\n",
    "isort=ts.argsort()\n",
    "light_curve[\"#Time (BKJD)\"]=S.tbkjd+ts[isort]/DAY\n",
    "light_curve[\"Normalized PDCSAP_Flux\"]=array(s)[isort]\n",
    "ds=array(ds)[isort]"
   ]
  },
  {
   "cell_type": "code",
   "execution_count": 9,
   "metadata": {},
   "outputs": [],
   "source": [
    "light_curve.to_csv(f\"{CONF.SYSTEM}.txt\",index=False,header=True)"
   ]
  },
  {
   "cell_type": "code",
   "execution_count": 10,
   "metadata": {},
   "outputs": [
    {
     "data": {
      "image/png": "[encoded data removed]",
      "text/plain": [
       "<matplotlib.figure.Figure at 0x12488aeb8>"
      ]
     },
     "metadata": {
      "needs_background": "light"
     },
     "output_type": "display_data"
    }
   ],
   "source": [
    "fig=plt.figure()\n",
    "ax=fig.gca()\n",
    "ax.plot(light_curve[\"#Time (BKJD)\"],light_curve[\"Normalized PDCSAP_Flux\"],'k.')\n",
    "fig.savefig(f\"{CONF.SYSTEM}.png\")"
   ]
  },
  {
   "cell_type": "code",
   "execution_count": null,
   "metadata": {},
   "outputs": [],
   "source": []
  }
 ],
 "metadata": {
  "kernelspec": {
   "display_name": "Python 3",
   "language": "python",
   "name": "python3"
  },
  "language_info": {
   "codemirror_mode": {
    "name": "ipython",
    "version": 3
   },
   "file_extension": ".py",
   "mimetype": "text/x-python",
   "name": "python",
   "nbconvert_exporter": "python",
   "pygments_lexer": "ipython3",
   "version": "3.6.0"
  }
 },
 "nbformat": 4,
 "nbformat_minor": 2
}
